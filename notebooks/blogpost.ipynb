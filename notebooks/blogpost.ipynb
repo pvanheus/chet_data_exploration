{
 "cells": [
  {
   "cell_type": "markdown",
   "metadata": {},
   "source": [
    "In November 2017, a piece by Nomalanga Mkhize on the [parlous state of undergraduate higher education in South Africa](http://www.dispatchlive.co.za/opinion/2017/11/21/time-deal-higher-educations-dirtiest-secret/) was published on Dispatch Live. It was followed soon after with a [discussion](http://life.primedia.co.za/podcasts/134/episode/39940) on Koketso Sachane's radio show and a small slurry of emails between myself and UdubsNET colleagues.\n",
    "\n",
    "One of the pieces I came across in the course of the discussion was Vivienne Bozalek and Chrissie Boughey's [(Mis)framing Higher Education in South Africa](http://onlinelibrary.wiley.com/doi/10.1111/j.1467-9515.2012.00863.x/abstract), which examines SA higher education policy from the perspective of Nancy Fraser's normative framework of social justice. A discussion in that piece on differentiation within SA higher education led me to Nico Cloete and Peter Mbali's 2010 [presentation](http://www.cepd.org.za/files/HESummit_Commission4_Differentiation.pdf) on differentiation in the sector. This also reminded me of the classification David Cooper used in his [2015 article](http://doi.wiley.com/10.1111/hequ.12074). I decided to investigate whether a 3 way classification, as used by both Cloete & Mbali and Cooper, makes sense. And what, if anything, it predicts.\n",
    "\n",
    "My initial goal was to used the CHET's [South African Higher Education Open Data](http://www.chet.org.za/data/sahe-open-data) as the basis for a Principal Component Analysis (PCA), to visually see the \"shape\" presented by the variables Cloete and Mbali chose to example. After some experimentation with PCA, k-means clustering and elbow plots I got a lot more interesting in the simple correlation between the variables. What variables seemed to change together?\n",
    "\n",
    "Cloete and Mbali choose 6 input and 3 output variables to examine:\n",
    "\n",
    "Input variables:\n",
    "* %’s headcount enrolment in SET\n",
    "* M&D headcount enrolments\n",
    "* student: academic staff FTE ratios\n",
    "* permanent staff with doctoral degrees\n",
    "* private income \n",
    "* government student fee income per student\n",
    "\n",
    "Output variables:\n",
    "* success rate\n",
    "* graduation rate\n",
    "* weighted research output by permanent staff member\n",
    "\n",
    "These were mostly fairly easy to gather from the CHET open data, with the exception of graduation rate. I choose "
   ]
  },
  {
   "cell_type": "code",
   "execution_count": null,
   "metadata": {
    "collapsed": true
   },
   "outputs": [],
   "source": []
  }
 ],
 "metadata": {
  "kernelspec": {
   "display_name": "Python [Root]",
   "language": "python",
   "name": "Python [Root]"
  },
  "language_info": {
   "codemirror_mode": {
    "name": "ipython",
    "version": 3
   },
   "file_extension": ".py",
   "mimetype": "text/x-python",
   "name": "python",
   "nbconvert_exporter": "python",
   "pygments_lexer": "ipython3",
   "version": "3.5.4"
  }
 },
 "nbformat": 4,
 "nbformat_minor": 2
}
